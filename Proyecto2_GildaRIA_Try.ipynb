{
 "cells": [
  {
   "cell_type": "code",
   "execution_count": 1,
   "id": "c483e8a0-576e-4f21-a19f-6fb8fa42fa14",
   "metadata": {},
   "outputs": [],
   "source": [
    "from bs4 import BeautifulSoup\n",
    "import requests\n",
    "import selenium\n",
    "import pandas as pd"
   ]
  },
  {
   "cell_type": "code",
   "execution_count": 2,
   "id": "a114183e-9356-4213-91fb-60a782bce915",
   "metadata": {},
   "outputs": [],
   "source": [
    "from selenium import webdriver\n",
    "browser = webdriver.Chrome()"
   ]
  },
  {
   "cell_type": "code",
   "execution_count": 3,
   "id": "5f60973b-6658-4ec5-baa2-862eab88fd7b",
   "metadata": {},
   "outputs": [],
   "source": [
    "driver = webdriver.Chrome()"
   ]
  },
  {
   "cell_type": "code",
   "execution_count": 4,
   "id": "9e25c2fa-d714-4d5f-875d-644a534caf37",
   "metadata": {},
   "outputs": [],
   "source": [
    "url = 'https://www.eleconomista.com.mx/tags/elecciones_en_Mexico'"
   ]
  },
  {
   "cell_type": "code",
   "execution_count": 5,
   "id": "909356bb-33df-42c7-b010-84f460b81b4e",
   "metadata": {},
   "outputs": [],
   "source": [
    "driver.get(url)"
   ]
  },
  {
   "cell_type": "code",
   "execution_count": 6,
   "id": "f637afb6-9ff0-4116-af43-554ebd65084b",
   "metadata": {},
   "outputs": [],
   "source": [
    "sopa = BeautifulSoup(driver.page_source)"
   ]
  },
  {
   "cell_type": "code",
   "execution_count": 23,
   "id": "af6cae88-e924-4d40-9a0c-3e2efe2e1803",
   "metadata": {},
   "outputs": [],
   "source": [
    "datos_tabla1 = sopa.select('h3.jsx-578919967.title')"
   ]
  },
  {
   "cell_type": "code",
   "execution_count": 24,
   "id": "e09fd631-90d9-4db7-8482-8d999c4bc4e0",
   "metadata": {},
   "outputs": [
    {
     "data": {
      "text/plain": [
       "[<h3 class=\"jsx-578919967 title\">\n",
       " <a class=\"jsx-578919967\" href=\"/politica/PRI-propondra-una-ley-para-reglamentar-a-los-gobiernos-de-coalicion-20221130-0045.html\" target=\"_self\" title=\"PRI propondrá una ley para reglamentar a los gobiernos de coalición\">PRI propondrá una ley para reglamentar a los gobiernos de coalición</a>\n",
       " </h3>,\n",
       " <h3 class=\"jsx-578919967 title\">\n",
       " <a class=\"jsx-578919967\" href=\"/politica/PAN-PRI-y-PRD-anuncian-su-alianza-Va-por-Mexico-en-Edomex-para-2023-20221117-0048.html\" target=\"_self\" title=\"PAN, PRI y PRD anuncian su alianza “Va por México” en Edomex para 2023\">PAN, PRI y PRD anuncian su alianza “Va por México” en Edomex para 2023</a>\n",
       " </h3>,\n",
       " <h3 class=\"jsx-578919967 title\">\n",
       " <a class=\"jsx-578919967\" href=\"/politica/La-coalicion-PRI-PAN-PRD-si-da-para-ganar-la-CDMX-20221117-0001.html\" target=\"_self\" title=\"La coalición PRI-PAN-PRD sí da para ganar la CDMX\">La coalición PRI-PAN-PRD sí da para ganar la CDMX</a>\n",
       " </h3>,\n",
       " <h3 class=\"jsx-578919967 title\">\n",
       " <a class=\"jsx-578919967\" href=\"/opinion/Ruptura-morenist-20221113-0082.html\" target=\"_self\" title=\"Ruptura morenist\">Ruptura morenist</a>\n",
       " </h3>,\n",
       " <h3 class=\"jsx-578919967 title\">\n",
       " <a class=\"jsx-578919967\" href=\"/politica/Recortes-al-INE-han-reducido-alcance-de-proyectos-estrategicos-20221111-0081.html\" target=\"_self\" title=\"Recortes al INE han reducido alcance de proyectos estratégicos\">Recortes al INE han reducido alcance de proyectos estratégicos</a>\n",
       " </h3>,\n",
       " <h3 class=\"jsx-578919967 title\">\n",
       " <a class=\"jsx-578919967\" href=\"/politica/Votarian-por-una-alianza-opositora-36.7-en-2024-20221110-0015.html\" target=\"_self\" title=\"Votarían por una alianza opositora 36.7% en 2024\">Votarían por una alianza opositora 36.7% en 2024</a>\n",
       " </h3>,\n",
       " <h3 class=\"jsx-578919967 title\">\n",
       " <a class=\"jsx-578919967\" href=\"/politica/Si-no-tienes-un-plan-para-hacer-crecer-la-economia-al-doble-no-deberias-aspirar-a-la-presidencia-Marcelo-Ebrard-C.-20221108-0152.html\" target=\"_self\" title=\"Si no tienes un plan para hacer crecer la economía al doble, no deberías aspirar a la presidencia: Marcelo Ebrard\">Si no tienes un plan para hacer crecer la economía al doble, no deberías aspirar a la presidencia: Marcelo Ebrard</a>\n",
       " </h3>,\n",
       " <h3 class=\"jsx-578919967 title\">\n",
       " <a class=\"jsx-578919967\" href=\"/politica/Recorte-al-INE-impactaria-a-comicios-del-2023-y-2024-20221107-0155.html\" target=\"_self\" title=\"Recorte al INE impactaría a comicios del 2023 y 2024\">Recorte al INE impactaría a comicios del 2023 y 2024</a>\n",
       " </h3>,\n",
       " <h3 class=\"jsx-578919967 title\">\n",
       " <a class=\"jsx-578919967\" href=\"/politica/Gobiernos-municipales-factor-para-el-2023-y-2024-20221103-0005.html\" target=\"_self\" title=\"Gobiernos municipales, factor para el 2023 y 2024\">Gobiernos municipales, factor para el 2023 y 2024</a>\n",
       " </h3>,\n",
       " <h3 class=\"jsx-578919967 title\"><a class=\"jsx-578919967\" href=\"/econohabitat/Que-ciudades-en-Mexico-se-perfilan-para-ser-smart-cities-20221202-0042.html\" target=\"_self\" title=\"¿Qué ciudades en México se perfilan para ser 'smart cities'?\">¿Qué ciudades en México se perfilan para ser 'smart cities'?</a></h3>,\n",
       " <h3 class=\"jsx-578919967 title\"><a class=\"jsx-578919967\" href=\"/economia/Mexico-recomprara-bono-al-2025-para-bajar-amortizaciones-de-la-deuda-externa-20221202-0045.html\" target=\"_self\" title=\"México recomprará bono al 2025 para bajar amortizaciones de la deuda externa\">México recomprará bono al 2025 para bajar amortizaciones de la deuda externa</a></h3>,\n",
       " <h3 class=\"jsx-578919967 title\"><a class=\"jsx-578919967\" href=\"/mercados/Blackstone-suspende-los-retiros-de-su-fondo-de-inversion-inmobiliaria-de-69000-millones-de-dolares-20221202-0047.html\" target=\"_self\" title=\"Blackstone suspende los retiros de su fondo de inversión inmobiliaria de 69,000 millones de dólares\">Blackstone suspende los retiros de su fondo de inversión inmobiliaria de 69,000 millones de dólares</a></h3>,\n",
       " <h3 class=\"jsx-578919967 title\"><a class=\"jsx-578919967\" href=\"/arteseideas/Cuales-fueron-los-artistas-mas-escuchados-en-Spotify-2022-20221202-0043.html\" target=\"_self\" title=\"¿Cuáles fueron los artistas más escuchados en Spotify 2022?\">¿Cuáles fueron los artistas más escuchados en Spotify 2022?</a></h3>,\n",
       " <h3 class=\"jsx-578919967 title\"><a al=\"\" class=\"jsx-578919967\" d=\"\" de=\"\" doble=\"\" href=\"/empresas/Negociaciones-contractuales-presionadas-por-incremento-de-doble-digito-al-salario-minimo-20221202-0041.html\" incremento=\"\" m=\"\" por=\"\" presionadas=\"\" salario=\"\" target=\"_self\" title=\"Negociaciones contractuales \">Negociaciones contractuales \"presionadas\" por incremento de doble dígito al salario mínimo</a></h3>,\n",
       " <h3 class=\"jsx-578919967 title\">\n",
       " <a class=\"jsx-578919967\" href=\"/politica/Morena-arranca-con-ventaja-en-Coahuila-20221102-0115.html\" target=\"_self\" title=\"Morena arranca con ventaja en Coahuila\">Morena arranca con ventaja en Coahuila</a>\n",
       " </h3>,\n",
       " <h3 class=\"jsx-578919967 title\">\n",
       " <a class=\"jsx-578919967\" href=\"/politica/Sheinbaum-con-ligera-ventaja-en-la-carrera-presidencial-20221031-0057.html\" target=\"_self\" title=\"Sheinbaum, con ligera ventaja en la carrera presidencial\">Sheinbaum, con ligera ventaja en la carrera presidencial</a>\n",
       " </h3>,\n",
       " <h3 class=\"jsx-578919967 title\">\n",
       " <a class=\"jsx-578919967\" href=\"/politica/Propone-PRD-a-PRI-y-PAN-unaencuesta-para-elegir-candidato-aliancista-en-Edomex-20221027-0054.html\" target=\"_self\" title=\"Propone PRD a PRI y PAN una encuesta para elegir candidato aliancista en Edomex\">Propone PRD a PRI y PAN una encuesta para elegir candidato aliancista en Edomex</a>\n",
       " </h3>,\n",
       " <h3 class=\"jsx-578919967 title\">\n",
       " <a class=\"jsx-578919967\" href=\"/opinion/Morena-si-ganan-el-24-por-que-trampear-20221026-0028.html\" target=\"_self\" title=\"Morena: si ganan el 24 ¿por qué trampear?\">Morena: si ganan el 24 ¿por qué trampear?</a>\n",
       " </h3>,\n",
       " <h3 class=\"jsx-578919967 title\">\n",
       " <a class=\"jsx-578919967\" href=\"/politica/Morena-abrira-registro-para-candidato-en-Coahuila-el-31-de-octubre-20221025-0142.html\" target=\"_self\" title=\"Morena abrirá registro para candidato en Coahuila el 31 de octubre\">Morena abrirá registro para candidato en Coahuila el 31 de octubre</a>\n",
       " </h3>,\n",
       " <h3 class=\"jsx-578919967 title\">\n",
       " <a class=\"jsx-578919967\" href=\"/opinion/Corcholatismo-acotado-20221023-0082.html\" target=\"_self\" title=\"¿Corcholatismo acotado?\">¿Corcholatismo acotado?</a>\n",
       " </h3>,\n",
       " <h3 class=\"jsx-578919967 title\">\n",
       " <a class=\"jsx-578919967\" href=\"/politica/Cuales-son-los-escenarios-de-la-reforma-electoral-en-marcha-20221021-0074.html\" target=\"_self\" title=\"¿Cuáles son los escenarios de la reforma electoral en marcha?\">¿Cuáles son los escenarios de la reforma electoral en marcha?</a>\n",
       " </h3>,\n",
       " <h3 class=\"jsx-578919967 title\">\n",
       " <a class=\"jsx-578919967\" href=\"/politica/PRI-perfila-a-Del-Moral-como-candidata-al-Edomex-20221020-0145.html\" target=\"_self\" title=\"PRI perfila a Del Moral como candidata al Edomex\">PRI perfila a Del Moral como candidata al Edomex</a>\n",
       " </h3>,\n",
       " <h3 class=\"jsx-578919967 title\">\n",
       " <a class=\"jsx-578919967\" href=\"/politica/Concluye-en-el-PRI-pasarela-de-presidenciables-20221018-0138.html\" target=\"_self\" title=\"Concluye en el PRI pasarela de presidenciables\">Concluye en el PRI pasarela de presidenciables</a>\n",
       " </h3>]"
      ]
     },
     "execution_count": 24,
     "metadata": {},
     "output_type": "execute_result"
    }
   ],
   "source": [
    "datos_tabla1"
   ]
  },
  {
   "cell_type": "code",
   "execution_count": null,
   "id": "2a1f5079-cc0b-401e-90f5-a811fba87bcc",
   "metadata": {},
   "outputs": [],
   "source": []
  },
  {
   "cell_type": "code",
   "execution_count": null,
   "id": "cfaf6513-1dfa-416c-a614-dce7217648ec",
   "metadata": {},
   "outputs": [],
   "source": []
  },
  {
   "cell_type": "code",
   "execution_count": null,
   "id": "0c4a8bbb-7a16-477d-b860-201834ae2216",
   "metadata": {},
   "outputs": [],
   "source": []
  },
  {
   "cell_type": "code",
   "execution_count": null,
   "id": "78cb7ee7-8825-443b-8394-eec9f680a1aa",
   "metadata": {},
   "outputs": [],
   "source": []
  }
 ],
 "metadata": {
  "kernelspec": {
   "display_name": "Python 3 (ipykernel)",
   "language": "python",
   "name": "python3"
  },
  "language_info": {
   "codemirror_mode": {
    "name": "ipython",
    "version": 3
   },
   "file_extension": ".py",
   "mimetype": "text/x-python",
   "name": "python",
   "nbconvert_exporter": "python",
   "pygments_lexer": "ipython3",
   "version": "3.9.12"
  }
 },
 "nbformat": 4,
 "nbformat_minor": 5
}
